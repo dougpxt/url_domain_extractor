{
 "cells": [
  {
   "cell_type": "code",
   "execution_count": null,
   "metadata": {},
   "outputs": [],
   "source": [
    "def url_domain(url:str) -> str:\n",
    "    domain = ''\n",
    "    not_parts = ['https', '', 'www', 'com']\n",
    "    not_domains = ['mail', 'email', 'chat', 'login', 'blog', 'news', 'landing', 'articles', 'resources', 'insights', 'remote', 'server', 'test', 'shop', 'webmail', 'support', 'forum', 'cloud', 'gov']\n",
    "    # \n",
    "    url_parts = url.split('/')\n",
    "    url_parts = url_parts[2].split('.')\n",
    "    # \n",
    "    for part in not_parts:\n",
    "        if part in url_parts:\n",
    "            url_parts.remove(part)\n",
    "    # \n",
    "    found_subdomain = False\n",
    "    for subdomain in not_domains:\n",
    "        if subdomain in url_parts:\n",
    "            domain = url_parts[1]\n",
    "\n",
    "            found_subdomain = True\n",
    "            break\n",
    "        \n",
    "    if not found_subdomain:\n",
    "        domain = url_parts[0]\n",
    "    return domain"
   ]
  },
  {
   "cell_type": "code",
   "execution_count": null,
   "metadata": {},
   "outputs": [],
   "source": [
    "url = input('give a URL to extract the domain: ')\n",
    "domain = url_domain(url)\n",
    "print ('domain: ' + domain)"
   ]
  }
 ],
 "metadata": {
  "kernelspec": {
   "display_name": "Python 3",
   "language": "python",
   "name": "python3"
  },
  "language_info": {
   "codemirror_mode": {
    "name": "ipython",
    "version": 3
   },
   "file_extension": ".py",
   "mimetype": "text/x-python",
   "name": "python",
   "nbconvert_exporter": "python",
   "pygments_lexer": "ipython3",
   "version": "3.10.6"
  },
  "orig_nbformat": 4
 },
 "nbformat": 4,
 "nbformat_minor": 2
}
